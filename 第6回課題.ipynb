{
 "cells": [
  {
   "cell_type": "markdown",
   "metadata": {
    "colab_type": "text",
    "id": "2iT6ur-Q-fvC"
   },
   "source": [
    "# 第6回課題\n",
    "前処理と特徴量選択により，SVM の最初のスコアよりも1割程度良いテストスコアを出してください．\n",
    "ちょこっといじった程度では，線形回帰はスコアが変わらなかったので，参考程度に使ってください\n",
    "\n",
    "### 必須事項\n",
    "- 前処理：正規化，標準化，外れ値の排除など\n",
    "- 特徴量選択: 検証は必須．増やす・減らす・変えないの結果は自由\n",
    "- テストスコアの向上: mse（平均二乗誤差（MSE：Mean Square Error））で 0.41 くらいは出ると思います\n",
    "\n",
    "### 自由事項\n",
    "- 指標の変更\n",
    "- パラメータの変更（モデルの変更は想定してません）\n",
    "\n",
    "### 余談\n",
    "特徴量選択で正解を用意するのは，やはり難しいなと解答を作る時に感じました．解答の方は最低限の考察と検証をしていますが，4時間かかりました( ;∀;)\n",
    "\n",
    "## 注意事項\n",
    "特徴量の分析時に分割したデータを使ってない時点でせこいというか，おかしいです．ここでは無視していますが，本来はできません．"
   ]
  },
  {
   "cell_type": "code",
   "execution_count": 53,
   "metadata": {
    "colab": {},
    "colab_type": "code",
    "id": "vBzPjQG_-fvD"
   },
   "outputs": [],
   "source": [
    "import matplotlib.pyplot as plt\n",
    "%matplotlib inline\n",
    "import numpy as np\n",
    "import pandas as pd\n",
    "import seaborn as sns\n",
    "from sklearn.linear_model import Ridge\n",
    "from sklearn.svm import SVC, SVR\n",
    "from sklearn.model_selection import train_test_split, cross_val_score, KFold\n",
    "from sklearn.metrics import mean_squared_error, make_scorer\n",
    "import warnings\n",
    "warnings.simplefilter(action='ignore', category=FutureWarning)"
   ]
  },
  {
   "cell_type": "markdown",
   "metadata": {
    "colab_type": "text",
    "id": "IfVy4l_U-fvH"
   },
   "source": [
    "For more information, read [Cortez et al., 2009].\n",
    "Input variables (based on physicochemical tests):\n",
    "\n",
    "- fixed acidity\n",
    "- volatile acidity\n",
    "- citric acid\n",
    "- residual sugar\n",
    "- chlorides\n",
    "- free sulfur dioxide\n",
    "- total sulfur dioxide\n",
    "- density\n",
    "- pH\n",
    "- sulphates\n",
    "- alcohol\n",
    "\n",
    "Output variable (based on sensory data):\n",
    "- quality (score between 0 and 10)"
   ]
  },
  {
   "cell_type": "code",
   "execution_count": 54,
   "metadata": {
    "colab": {},
    "colab_type": "code",
    "id": "r6ZCEibK-fvI",
    "outputId": "3efa1eea-2d8f-4c54-8fa1-eea19c3a8418"
   },
   "outputs": [
    {
     "name": "stdout",
     "output_type": "stream",
     "text": [
      "(1599, 12)\n"
     ]
    },
    {
     "data": {
      "text/html": [
       "<div>\n",
       "<style scoped>\n",
       "    .dataframe tbody tr th:only-of-type {\n",
       "        vertical-align: middle;\n",
       "    }\n",
       "\n",
       "    .dataframe tbody tr th {\n",
       "        vertical-align: top;\n",
       "    }\n",
       "\n",
       "    .dataframe thead th {\n",
       "        text-align: right;\n",
       "    }\n",
       "</style>\n",
       "<table border=\"1\" class=\"dataframe\">\n",
       "  <thead>\n",
       "    <tr style=\"text-align: right;\">\n",
       "      <th></th>\n",
       "      <th>fixed acidity</th>\n",
       "      <th>volatile acidity</th>\n",
       "      <th>citric acid</th>\n",
       "      <th>residual sugar</th>\n",
       "      <th>chlorides</th>\n",
       "      <th>free sulfur dioxide</th>\n",
       "      <th>total sulfur dioxide</th>\n",
       "      <th>density</th>\n",
       "      <th>pH</th>\n",
       "      <th>sulphates</th>\n",
       "      <th>alcohol</th>\n",
       "      <th>quality</th>\n",
       "    </tr>\n",
       "  </thead>\n",
       "  <tbody>\n",
       "    <tr>\n",
       "      <th>0</th>\n",
       "      <td>7.4</td>\n",
       "      <td>0.70</td>\n",
       "      <td>0.00</td>\n",
       "      <td>1.9</td>\n",
       "      <td>0.076</td>\n",
       "      <td>11.0</td>\n",
       "      <td>34.0</td>\n",
       "      <td>0.9978</td>\n",
       "      <td>3.51</td>\n",
       "      <td>0.56</td>\n",
       "      <td>9.4</td>\n",
       "      <td>5</td>\n",
       "    </tr>\n",
       "    <tr>\n",
       "      <th>1</th>\n",
       "      <td>7.8</td>\n",
       "      <td>0.88</td>\n",
       "      <td>0.00</td>\n",
       "      <td>2.6</td>\n",
       "      <td>0.098</td>\n",
       "      <td>25.0</td>\n",
       "      <td>67.0</td>\n",
       "      <td>0.9968</td>\n",
       "      <td>3.20</td>\n",
       "      <td>0.68</td>\n",
       "      <td>9.8</td>\n",
       "      <td>5</td>\n",
       "    </tr>\n",
       "    <tr>\n",
       "      <th>2</th>\n",
       "      <td>7.8</td>\n",
       "      <td>0.76</td>\n",
       "      <td>0.04</td>\n",
       "      <td>2.3</td>\n",
       "      <td>0.092</td>\n",
       "      <td>15.0</td>\n",
       "      <td>54.0</td>\n",
       "      <td>0.9970</td>\n",
       "      <td>3.26</td>\n",
       "      <td>0.65</td>\n",
       "      <td>9.8</td>\n",
       "      <td>5</td>\n",
       "    </tr>\n",
       "    <tr>\n",
       "      <th>3</th>\n",
       "      <td>11.2</td>\n",
       "      <td>0.28</td>\n",
       "      <td>0.56</td>\n",
       "      <td>1.9</td>\n",
       "      <td>0.075</td>\n",
       "      <td>17.0</td>\n",
       "      <td>60.0</td>\n",
       "      <td>0.9980</td>\n",
       "      <td>3.16</td>\n",
       "      <td>0.58</td>\n",
       "      <td>9.8</td>\n",
       "      <td>6</td>\n",
       "    </tr>\n",
       "    <tr>\n",
       "      <th>4</th>\n",
       "      <td>7.4</td>\n",
       "      <td>0.70</td>\n",
       "      <td>0.00</td>\n",
       "      <td>1.9</td>\n",
       "      <td>0.076</td>\n",
       "      <td>11.0</td>\n",
       "      <td>34.0</td>\n",
       "      <td>0.9978</td>\n",
       "      <td>3.51</td>\n",
       "      <td>0.56</td>\n",
       "      <td>9.4</td>\n",
       "      <td>5</td>\n",
       "    </tr>\n",
       "  </tbody>\n",
       "</table>\n",
       "</div>"
      ],
      "text/plain": [
       "   fixed acidity  volatile acidity  citric acid  residual sugar  chlorides  \\\n",
       "0            7.4              0.70         0.00             1.9      0.076   \n",
       "1            7.8              0.88         0.00             2.6      0.098   \n",
       "2            7.8              0.76         0.04             2.3      0.092   \n",
       "3           11.2              0.28         0.56             1.9      0.075   \n",
       "4            7.4              0.70         0.00             1.9      0.076   \n",
       "\n",
       "   free sulfur dioxide  total sulfur dioxide  density    pH  sulphates  \\\n",
       "0                 11.0                  34.0   0.9978  3.51       0.56   \n",
       "1                 25.0                  67.0   0.9968  3.20       0.68   \n",
       "2                 15.0                  54.0   0.9970  3.26       0.65   \n",
       "3                 17.0                  60.0   0.9980  3.16       0.58   \n",
       "4                 11.0                  34.0   0.9978  3.51       0.56   \n",
       "\n",
       "   alcohol  quality  \n",
       "0      9.4        5  \n",
       "1      9.8        5  \n",
       "2      9.8        5  \n",
       "3      9.8        6  \n",
       "4      9.4        5  "
      ]
     },
     "execution_count": 54,
     "metadata": {},
     "output_type": "execute_result"
    }
   ],
   "source": [
    "wine_quality_df = pd.read_csv(\"winequality-red.csv\",delimiter=\";\")\n",
    "print(wine_quality_df.shape)\n",
    "wine_quality_df.head()"
   ]
  },
  {
   "cell_type": "code",
   "execution_count": 55,
   "metadata": {
    "colab": {},
    "colab_type": "code",
    "id": "5oGbMiWE-fvN",
    "outputId": "0c95a96f-ccda-4546-c076-4dac52e88a09"
   },
   "outputs": [
    {
     "data": {
      "text/html": [
       "<div>\n",
       "<style scoped>\n",
       "    .dataframe tbody tr th:only-of-type {\n",
       "        vertical-align: middle;\n",
       "    }\n",
       "\n",
       "    .dataframe tbody tr th {\n",
       "        vertical-align: top;\n",
       "    }\n",
       "\n",
       "    .dataframe thead th {\n",
       "        text-align: right;\n",
       "    }\n",
       "</style>\n",
       "<table border=\"1\" class=\"dataframe\">\n",
       "  <thead>\n",
       "    <tr style=\"text-align: right;\">\n",
       "      <th></th>\n",
       "      <th>fixed acidity</th>\n",
       "      <th>volatile acidity</th>\n",
       "      <th>citric acid</th>\n",
       "      <th>residual sugar</th>\n",
       "      <th>chlorides</th>\n",
       "      <th>free sulfur dioxide</th>\n",
       "      <th>total sulfur dioxide</th>\n",
       "      <th>density</th>\n",
       "      <th>pH</th>\n",
       "      <th>sulphates</th>\n",
       "      <th>alcohol</th>\n",
       "      <th>quality</th>\n",
       "    </tr>\n",
       "  </thead>\n",
       "  <tbody>\n",
       "    <tr>\n",
       "      <th>count</th>\n",
       "      <td>1599.000000</td>\n",
       "      <td>1599.000000</td>\n",
       "      <td>1599.000000</td>\n",
       "      <td>1599.000000</td>\n",
       "      <td>1599.000000</td>\n",
       "      <td>1599.000000</td>\n",
       "      <td>1599.000000</td>\n",
       "      <td>1599.000000</td>\n",
       "      <td>1599.000000</td>\n",
       "      <td>1599.000000</td>\n",
       "      <td>1599.000000</td>\n",
       "      <td>1599.000000</td>\n",
       "    </tr>\n",
       "    <tr>\n",
       "      <th>mean</th>\n",
       "      <td>8.319637</td>\n",
       "      <td>0.527821</td>\n",
       "      <td>0.270976</td>\n",
       "      <td>2.538806</td>\n",
       "      <td>0.087467</td>\n",
       "      <td>15.874922</td>\n",
       "      <td>46.467792</td>\n",
       "      <td>0.996747</td>\n",
       "      <td>3.311113</td>\n",
       "      <td>0.658149</td>\n",
       "      <td>10.422983</td>\n",
       "      <td>5.636023</td>\n",
       "    </tr>\n",
       "    <tr>\n",
       "      <th>std</th>\n",
       "      <td>1.741096</td>\n",
       "      <td>0.179060</td>\n",
       "      <td>0.194801</td>\n",
       "      <td>1.409928</td>\n",
       "      <td>0.047065</td>\n",
       "      <td>10.460157</td>\n",
       "      <td>32.895324</td>\n",
       "      <td>0.001887</td>\n",
       "      <td>0.154386</td>\n",
       "      <td>0.169507</td>\n",
       "      <td>1.065668</td>\n",
       "      <td>0.807569</td>\n",
       "    </tr>\n",
       "    <tr>\n",
       "      <th>min</th>\n",
       "      <td>4.600000</td>\n",
       "      <td>0.120000</td>\n",
       "      <td>0.000000</td>\n",
       "      <td>0.900000</td>\n",
       "      <td>0.012000</td>\n",
       "      <td>1.000000</td>\n",
       "      <td>6.000000</td>\n",
       "      <td>0.990070</td>\n",
       "      <td>2.740000</td>\n",
       "      <td>0.330000</td>\n",
       "      <td>8.400000</td>\n",
       "      <td>3.000000</td>\n",
       "    </tr>\n",
       "    <tr>\n",
       "      <th>25%</th>\n",
       "      <td>7.100000</td>\n",
       "      <td>0.390000</td>\n",
       "      <td>0.090000</td>\n",
       "      <td>1.900000</td>\n",
       "      <td>0.070000</td>\n",
       "      <td>7.000000</td>\n",
       "      <td>22.000000</td>\n",
       "      <td>0.995600</td>\n",
       "      <td>3.210000</td>\n",
       "      <td>0.550000</td>\n",
       "      <td>9.500000</td>\n",
       "      <td>5.000000</td>\n",
       "    </tr>\n",
       "    <tr>\n",
       "      <th>50%</th>\n",
       "      <td>7.900000</td>\n",
       "      <td>0.520000</td>\n",
       "      <td>0.260000</td>\n",
       "      <td>2.200000</td>\n",
       "      <td>0.079000</td>\n",
       "      <td>14.000000</td>\n",
       "      <td>38.000000</td>\n",
       "      <td>0.996750</td>\n",
       "      <td>3.310000</td>\n",
       "      <td>0.620000</td>\n",
       "      <td>10.200000</td>\n",
       "      <td>6.000000</td>\n",
       "    </tr>\n",
       "    <tr>\n",
       "      <th>75%</th>\n",
       "      <td>9.200000</td>\n",
       "      <td>0.640000</td>\n",
       "      <td>0.420000</td>\n",
       "      <td>2.600000</td>\n",
       "      <td>0.090000</td>\n",
       "      <td>21.000000</td>\n",
       "      <td>62.000000</td>\n",
       "      <td>0.997835</td>\n",
       "      <td>3.400000</td>\n",
       "      <td>0.730000</td>\n",
       "      <td>11.100000</td>\n",
       "      <td>6.000000</td>\n",
       "    </tr>\n",
       "    <tr>\n",
       "      <th>max</th>\n",
       "      <td>15.900000</td>\n",
       "      <td>1.580000</td>\n",
       "      <td>1.000000</td>\n",
       "      <td>15.500000</td>\n",
       "      <td>0.611000</td>\n",
       "      <td>72.000000</td>\n",
       "      <td>289.000000</td>\n",
       "      <td>1.003690</td>\n",
       "      <td>4.010000</td>\n",
       "      <td>2.000000</td>\n",
       "      <td>14.900000</td>\n",
       "      <td>8.000000</td>\n",
       "    </tr>\n",
       "  </tbody>\n",
       "</table>\n",
       "</div>"
      ],
      "text/plain": [
       "       fixed acidity  volatile acidity  citric acid  residual sugar  \\\n",
       "count    1599.000000       1599.000000  1599.000000     1599.000000   \n",
       "mean        8.319637          0.527821     0.270976        2.538806   \n",
       "std         1.741096          0.179060     0.194801        1.409928   \n",
       "min         4.600000          0.120000     0.000000        0.900000   \n",
       "25%         7.100000          0.390000     0.090000        1.900000   \n",
       "50%         7.900000          0.520000     0.260000        2.200000   \n",
       "75%         9.200000          0.640000     0.420000        2.600000   \n",
       "max        15.900000          1.580000     1.000000       15.500000   \n",
       "\n",
       "         chlorides  free sulfur dioxide  total sulfur dioxide      density  \\\n",
       "count  1599.000000          1599.000000           1599.000000  1599.000000   \n",
       "mean      0.087467            15.874922             46.467792     0.996747   \n",
       "std       0.047065            10.460157             32.895324     0.001887   \n",
       "min       0.012000             1.000000              6.000000     0.990070   \n",
       "25%       0.070000             7.000000             22.000000     0.995600   \n",
       "50%       0.079000            14.000000             38.000000     0.996750   \n",
       "75%       0.090000            21.000000             62.000000     0.997835   \n",
       "max       0.611000            72.000000            289.000000     1.003690   \n",
       "\n",
       "                pH    sulphates      alcohol      quality  \n",
       "count  1599.000000  1599.000000  1599.000000  1599.000000  \n",
       "mean      3.311113     0.658149    10.422983     5.636023  \n",
       "std       0.154386     0.169507     1.065668     0.807569  \n",
       "min       2.740000     0.330000     8.400000     3.000000  \n",
       "25%       3.210000     0.550000     9.500000     5.000000  \n",
       "50%       3.310000     0.620000    10.200000     6.000000  \n",
       "75%       3.400000     0.730000    11.100000     6.000000  \n",
       "max       4.010000     2.000000    14.900000     8.000000  "
      ]
     },
     "execution_count": 55,
     "metadata": {},
     "output_type": "execute_result"
    }
   ],
   "source": [
    "wine_quality_df.describe()"
   ]
  },
  {
   "cell_type": "code",
   "execution_count": 56,
   "metadata": {
    "colab": {},
    "colab_type": "code",
    "id": "TUwfdQuA-fvP"
   },
   "outputs": [],
   "source": [
    "feature_names = list(np.copy(wine_quality_df.columns))\n",
    "feature_names.remove(\"quality\")"
   ]
  },
  {
   "cell_type": "code",
   "execution_count": 57,
   "metadata": {
    "colab": {},
    "colab_type": "code",
    "id": "4E2fef-p-fvS",
    "outputId": "ca4ad5b1-1d11-4706-a60c-1747722024bb"
   },
   "outputs": [
    {
     "data": {
      "text/plain": [
       "((1119, 11), (480, 11))"
      ]
     },
     "execution_count": 57,
     "metadata": {},
     "output_type": "execute_result"
    }
   ],
   "source": [
    "X_train, X_test, y_train, y_test = \\\n",
    "    train_test_split(wine_quality_df[feature_names], wine_quality_df[\"quality\"], \n",
    "                     test_size=0.3, random_state=0)\n",
    "X_train.shape, X_test.shape"
   ]
  },
  {
   "cell_type": "markdown",
   "metadata": {
    "colab_type": "text",
    "id": "NqU9qRJX-fvV"
   },
   "source": [
    "## 注意\n",
    "ここで，test score まで同時に出してしまっているんですが，1つの関数で実行してしまう方が楽だったという理由だけで，これらは分けた方が良いです．\n",
    "パラメータや特徴量について考えるときには，CV だけで調整すべきです"
   ]
  },
  {
   "cell_type": "code",
   "execution_count": 58,
   "metadata": {
    "colab": {},
    "colab_type": "code",
    "id": "ckJB74wq-fvW"
   },
   "outputs": [],
   "source": [
    "kfold = KFold(n_splits=5, random_state=0)\n",
    "def cross_validation(model, test=True):\n",
    "    global X_train, X_test, y_train, y_test, feature_names\n",
    "    scores = cross_val_score(model, X_train[feature_names], y_train, cv=kfold, \n",
    "                             scoring=make_scorer(mean_squared_error))\n",
    "    # 各分割におけるスコア\n",
    "    print('Cross-Validation scores: {}'.format(scores))\n",
    "    # スコアの平均値\n",
    "    print('Average score: {}'.format(np.mean(scores)))\n",
    "    if test:\n",
    "        model.fit(X_train[feature_names], y_train)\n",
    "        pred = model.predict(X_test[feature_names])\n",
    "        print('Test score: {}'.format(mean_squared_error(y_test, pred)))"
   ]
  },
  {
   "cell_type": "markdown",
   "metadata": {
    "colab_type": "text",
    "id": "Rs7br3kB-fvZ"
   },
   "source": [
    "# モデルによる予測"
   ]
  },
  {
   "cell_type": "code",
   "execution_count": 59,
   "metadata": {
    "colab": {},
    "colab_type": "code",
    "id": "k0WPrpMP-fva",
    "outputId": "83d357b8-2979-4f33-9b9b-c1ef93548beb"
   },
   "outputs": [
    {
     "name": "stdout",
     "output_type": "stream",
     "text": [
      "Cross-Validation scores: [0.48812538 0.48841541 0.42327305 0.42566563 0.36728215]\n",
      "Average score: 0.43855232598926497\n",
      "Test score: 0.4010466305154149\n"
     ]
    }
   ],
   "source": [
    "linear_reg = Ridge(random_state=0)\n",
    "cross_validation(linear_reg)"
   ]
  },
  {
   "cell_type": "code",
   "execution_count": 60,
   "metadata": {
    "colab": {},
    "colab_type": "code",
    "id": "20atf6ZS-fvd",
    "outputId": "25a34978-bdf8-463c-c775-3bc8b52a2668"
   },
   "outputs": [
    {
     "name": "stdout",
     "output_type": "stream",
     "text": [
      "Cross-Validation scores: [0.67857143 0.82142857 0.71428571 0.75446429 0.62780269]\n",
      "Average score: 0.719310538116592\n",
      "Test score: 0.68125\n"
     ]
    }
   ],
   "source": [
    "svm_clf = SVC(kernel=\"rbf\", random_state=0)\n",
    "cross_validation(svm_clf)"
   ]
  },
  {
   "cell_type": "code",
   "execution_count": 61,
   "metadata": {
    "colab": {},
    "colab_type": "code",
    "id": "zj29pAd5-fvg",
    "outputId": "c621fdee-75bb-4703-c483-97be2d1fbeec"
   },
   "outputs": [
    {
     "name": "stdout",
     "output_type": "stream",
     "text": [
      "Cross-Validation scores: [0.5715145  0.68175944 0.57909369 0.61098986 0.50245379]\n",
      "Average score: 0.5891622546486783\n",
      "Test score: 0.5085468469038228\n"
     ]
    }
   ],
   "source": [
    "svm_reg = SVR(kernel=\"rbf\")\n",
    "cross_validation(svm_reg)"
   ]
  },
  {
   "cell_type": "markdown",
   "metadata": {
    "colab_type": "text",
    "id": "LNY5WDB7-fvi"
   },
   "source": [
    "# 以降にコードを追加"
   ]
  },
  {
   "cell_type": "code",
   "execution_count": 42,
   "metadata": {},
   "outputs": [
    {
     "data": {
      "text/plain": [
       "[['fixed acidity', 'citric acid', 0.6717034347641041],\n",
       " ['fixed acidity', 'density', 0.6680472921189711],\n",
       " ['fixed acidity', 'pH', -0.6829781945685299],\n",
       " ['volatile acidity', 'citric acid', -0.5524956845595839],\n",
       " ['citric acid', 'fixed acidity', 0.6717034347641041],\n",
       " ['citric acid', 'volatile acidity', -0.5524956845595839],\n",
       " ['citric acid', 'pH', -0.5419041447395132],\n",
       " ['free sulfur dioxide', 'total sulfur dioxide', 0.6676664504810212],\n",
       " ['total sulfur dioxide', 'free sulfur dioxide', 0.6676664504810212],\n",
       " ['density', 'fixed acidity', 0.6680472921189711],\n",
       " ['density', 'alcohol', -0.49617977024170085],\n",
       " ['pH', 'fixed acidity', -0.6829781945685299],\n",
       " ['pH', 'citric acid', -0.5419041447395132],\n",
       " ['alcohol', 'density', -0.49617977024170085]]"
      ]
     },
     "execution_count": 42,
     "metadata": {},
     "output_type": "execute_result"
    }
   ],
   "source": [
    "#特徴量間の相関関係を調べる\n",
    "corr = wine_quality_df.corr().values\n",
    "[[wine_quality_df.columns[i], wine_quality_df.columns[j], corr[i][j]] for i in range(wine_quality_df.shape[1]-1) for j in range(wine_quality_df.shape[1]-1) if abs(corr[i][j]) >= 0.4 and corr[i][j] != 1]"
   ]
  },
  {
   "cell_type": "markdown",
   "metadata": {},
   "source": [
    "特徴量間に特に高い相関関係はみられないため、特徴量選択は行わないことにする。"
   ]
  },
  {
   "cell_type": "code",
   "execution_count": 44,
   "metadata": {
    "scrolled": true
   },
   "outputs": [
    {
     "data": {
      "text/plain": [
       "fixed acidity           0\n",
       "volatile acidity        0\n",
       "citric acid             0\n",
       "residual sugar          0\n",
       "chlorides               0\n",
       "free sulfur dioxide     0\n",
       "total sulfur dioxide    0\n",
       "density                 0\n",
       "pH                      0\n",
       "sulphates               0\n",
       "alcohol                 0\n",
       "quality                 0\n",
       "dtype: int64"
      ]
     },
     "execution_count": 44,
     "metadata": {},
     "output_type": "execute_result"
    }
   ],
   "source": [
    "#欠損値の確認\n",
    "wine_quality_df.isnull().sum()"
   ]
  },
  {
   "cell_type": "markdown",
   "metadata": {},
   "source": [
    "欠損値がないことを確認"
   ]
  },
  {
   "cell_type": "code",
   "execution_count": 62,
   "metadata": {
    "colab": {},
    "colab_type": "code",
    "id": "B8xch8PW-fvj",
    "scrolled": false
   },
   "outputs": [
    {
     "data": {
      "text/html": [
       "<div>\n",
       "<style scoped>\n",
       "    .dataframe tbody tr th:only-of-type {\n",
       "        vertical-align: middle;\n",
       "    }\n",
       "\n",
       "    .dataframe tbody tr th {\n",
       "        vertical-align: top;\n",
       "    }\n",
       "\n",
       "    .dataframe thead th {\n",
       "        text-align: right;\n",
       "    }\n",
       "</style>\n",
       "<table border=\"1\" class=\"dataframe\">\n",
       "  <thead>\n",
       "    <tr style=\"text-align: right;\">\n",
       "      <th></th>\n",
       "      <th>fixed acidity</th>\n",
       "      <th>volatile acidity</th>\n",
       "      <th>citric acid</th>\n",
       "      <th>residual sugar</th>\n",
       "      <th>chlorides</th>\n",
       "      <th>free sulfur dioxide</th>\n",
       "      <th>total sulfur dioxide</th>\n",
       "      <th>density</th>\n",
       "      <th>pH</th>\n",
       "      <th>sulphates</th>\n",
       "      <th>alcohol</th>\n",
       "    </tr>\n",
       "  </thead>\n",
       "  <tbody>\n",
       "    <tr>\n",
       "      <th>0</th>\n",
       "      <td>0.348214</td>\n",
       "      <td>0.253425</td>\n",
       "      <td>0.29</td>\n",
       "      <td>0.075342</td>\n",
       "      <td>0.163606</td>\n",
       "      <td>0.253521</td>\n",
       "      <td>0.448763</td>\n",
       "      <td>0.523495</td>\n",
       "      <td>0.149606</td>\n",
       "      <td>0.987730</td>\n",
       "      <td>0.215385</td>\n",
       "    </tr>\n",
       "    <tr>\n",
       "      <th>1</th>\n",
       "      <td>0.294643</td>\n",
       "      <td>0.041096</td>\n",
       "      <td>0.37</td>\n",
       "      <td>0.000000</td>\n",
       "      <td>0.061770</td>\n",
       "      <td>0.492958</td>\n",
       "      <td>0.363958</td>\n",
       "      <td>0.000000</td>\n",
       "      <td>0.118110</td>\n",
       "      <td>0.042945</td>\n",
       "      <td>0.661538</td>\n",
       "    </tr>\n",
       "    <tr>\n",
       "      <th>2</th>\n",
       "      <td>0.187500</td>\n",
       "      <td>0.376712</td>\n",
       "      <td>0.00</td>\n",
       "      <td>0.068493</td>\n",
       "      <td>0.113523</td>\n",
       "      <td>0.295775</td>\n",
       "      <td>0.116608</td>\n",
       "      <td>0.509545</td>\n",
       "      <td>0.519685</td>\n",
       "      <td>0.226994</td>\n",
       "      <td>0.200000</td>\n",
       "    </tr>\n",
       "    <tr>\n",
       "      <th>3</th>\n",
       "      <td>0.482143</td>\n",
       "      <td>0.130137</td>\n",
       "      <td>0.35</td>\n",
       "      <td>0.047945</td>\n",
       "      <td>0.105175</td>\n",
       "      <td>0.112676</td>\n",
       "      <td>0.077739</td>\n",
       "      <td>0.488253</td>\n",
       "      <td>0.393701</td>\n",
       "      <td>0.282209</td>\n",
       "      <td>0.430769</td>\n",
       "    </tr>\n",
       "    <tr>\n",
       "      <th>4</th>\n",
       "      <td>0.232143</td>\n",
       "      <td>0.226027</td>\n",
       "      <td>0.36</td>\n",
       "      <td>0.342466</td>\n",
       "      <td>0.103506</td>\n",
       "      <td>0.154930</td>\n",
       "      <td>0.286219</td>\n",
       "      <td>0.567548</td>\n",
       "      <td>0.464567</td>\n",
       "      <td>0.282209</td>\n",
       "      <td>0.323077</td>\n",
       "    </tr>\n",
       "  </tbody>\n",
       "</table>\n",
       "</div>"
      ],
      "text/plain": [
       "   fixed acidity  volatile acidity  citric acid  residual sugar  chlorides  \\\n",
       "0       0.348214          0.253425         0.29        0.075342   0.163606   \n",
       "1       0.294643          0.041096         0.37        0.000000   0.061770   \n",
       "2       0.187500          0.376712         0.00        0.068493   0.113523   \n",
       "3       0.482143          0.130137         0.35        0.047945   0.105175   \n",
       "4       0.232143          0.226027         0.36        0.342466   0.103506   \n",
       "\n",
       "   free sulfur dioxide  total sulfur dioxide   density        pH  sulphates  \\\n",
       "0             0.253521              0.448763  0.523495  0.149606   0.987730   \n",
       "1             0.492958              0.363958  0.000000  0.118110   0.042945   \n",
       "2             0.295775              0.116608  0.509545  0.519685   0.226994   \n",
       "3             0.112676              0.077739  0.488253  0.393701   0.282209   \n",
       "4             0.154930              0.286219  0.567548  0.464567   0.282209   \n",
       "\n",
       "    alcohol  \n",
       "0  0.215385  \n",
       "1  0.661538  \n",
       "2  0.200000  \n",
       "3  0.430769  \n",
       "4  0.323077  "
      ]
     },
     "execution_count": 62,
     "metadata": {},
     "output_type": "execute_result"
    }
   ],
   "source": [
    "#正規化\n",
    "from sklearn.preprocessing import MinMaxScaler\n",
    "min_max_scaler = MinMaxScaler()\n",
    "\n",
    "X_train = pd.DataFrame(min_max_scaler.fit_transform(X_train), columns=feature_names)\n",
    "X_test = pd.DataFrame(min_max_scaler.fit_transform(X_test), columns=feature_names)\n",
    "X_train.head()"
   ]
  },
  {
   "cell_type": "code",
   "execution_count": 63,
   "metadata": {
    "scrolled": true
   },
   "outputs": [
    {
     "name": "stdout",
     "output_type": "stream",
     "text": [
      "Cross-Validation scores: [0.4892121  0.48830701 0.42580411 0.42564279 0.36217685]\n",
      "Average score: 0.4382285727903389\n",
      "Test score: 0.4492016440328416\n"
     ]
    }
   ],
   "source": [
    "linear_reg = Ridge(random_state=0)\n",
    "cross_validation(linear_reg)"
   ]
  },
  {
   "cell_type": "code",
   "execution_count": 64,
   "metadata": {},
   "outputs": [
    {
     "name": "stdout",
     "output_type": "stream",
     "text": [
      "Cross-Validation scores: [0.55803571 0.51785714 0.52232143 0.54910714 0.4529148 ]\n",
      "Average score: 0.5200472453555414\n",
      "Test score: 0.5145833333333333\n"
     ]
    }
   ],
   "source": [
    "svm_clf = SVC(kernel=\"rbf\", random_state=0)\n",
    "cross_validation(svm_clf)"
   ]
  },
  {
   "cell_type": "code",
   "execution_count": 65,
   "metadata": {},
   "outputs": [
    {
     "name": "stdout",
     "output_type": "stream",
     "text": [
      "Cross-Validation scores: [0.4538687  0.42541329 0.38508794 0.43251404 0.3540613 ]\n",
      "Average score: 0.4101890514465901\n",
      "Test score: 0.43664961125857593\n"
     ]
    }
   ],
   "source": [
    "svm_reg = SVR(kernel=\"rbf\")\n",
    "cross_validation(svm_reg)"
   ]
  },
  {
   "cell_type": "code",
   "execution_count": 66,
   "metadata": {
    "scrolled": true
   },
   "outputs": [
    {
     "data": {
      "text/html": [
       "<div>\n",
       "<style scoped>\n",
       "    .dataframe tbody tr th:only-of-type {\n",
       "        vertical-align: middle;\n",
       "    }\n",
       "\n",
       "    .dataframe tbody tr th {\n",
       "        vertical-align: top;\n",
       "    }\n",
       "\n",
       "    .dataframe thead th {\n",
       "        text-align: right;\n",
       "    }\n",
       "</style>\n",
       "<table border=\"1\" class=\"dataframe\">\n",
       "  <thead>\n",
       "    <tr style=\"text-align: right;\">\n",
       "      <th></th>\n",
       "      <th>fixed acidity</th>\n",
       "      <th>volatile acidity</th>\n",
       "      <th>citric acid</th>\n",
       "      <th>residual sugar</th>\n",
       "      <th>chlorides</th>\n",
       "      <th>free sulfur dioxide</th>\n",
       "      <th>total sulfur dioxide</th>\n",
       "      <th>density</th>\n",
       "      <th>pH</th>\n",
       "      <th>sulphates</th>\n",
       "      <th>alcohol</th>\n",
       "    </tr>\n",
       "  </thead>\n",
       "  <tbody>\n",
       "    <tr>\n",
       "      <th>0</th>\n",
       "      <td>0.148946</td>\n",
       "      <td>-0.218060</td>\n",
       "      <td>0.091982</td>\n",
       "      <td>-0.371725</td>\n",
       "      <td>0.450263</td>\n",
       "      <td>0.256185</td>\n",
       "      <td>2.498011</td>\n",
       "      <td>0.234476</td>\n",
       "      <td>-2.444015</td>\n",
       "      <td>7.385412</td>\n",
       "      <td>-0.573058</td>\n",
       "    </tr>\n",
       "    <tr>\n",
       "      <th>1</th>\n",
       "      <td>-0.195652</td>\n",
       "      <td>-1.890462</td>\n",
       "      <td>0.502669</td>\n",
       "      <td>-1.108115</td>\n",
       "      <td>-0.780595</td>\n",
       "      <td>1.838977</td>\n",
       "      <td>1.797243</td>\n",
       "      <td>-3.520329</td>\n",
       "      <td>-2.701983</td>\n",
       "      <td>-1.234462</td>\n",
       "      <td>2.151676</td>\n",
       "    </tr>\n",
       "    <tr>\n",
       "      <th>2</th>\n",
       "      <td>-0.884848</td>\n",
       "      <td>0.753012</td>\n",
       "      <td>-1.396757</td>\n",
       "      <td>-0.438669</td>\n",
       "      <td>-0.155077</td>\n",
       "      <td>0.535501</td>\n",
       "      <td>-0.246662</td>\n",
       "      <td>0.134418</td>\n",
       "      <td>0.587115</td>\n",
       "      <td>0.444734</td>\n",
       "      <td>-0.667015</td>\n",
       "    </tr>\n",
       "    <tr>\n",
       "      <th>3</th>\n",
       "      <td>1.010441</td>\n",
       "      <td>-1.189132</td>\n",
       "      <td>0.399998</td>\n",
       "      <td>-0.639503</td>\n",
       "      <td>-0.255967</td>\n",
       "      <td>-0.674868</td>\n",
       "      <td>-0.567847</td>\n",
       "      <td>-0.018302</td>\n",
       "      <td>-0.444759</td>\n",
       "      <td>0.948493</td>\n",
       "      <td>0.742331</td>\n",
       "    </tr>\n",
       "    <tr>\n",
       "      <th>4</th>\n",
       "      <td>-0.597683</td>\n",
       "      <td>-0.433854</td>\n",
       "      <td>0.451333</td>\n",
       "      <td>2.239114</td>\n",
       "      <td>-0.276145</td>\n",
       "      <td>-0.395552</td>\n",
       "      <td>1.154873</td>\n",
       "      <td>0.550448</td>\n",
       "      <td>0.135670</td>\n",
       "      <td>0.948493</td>\n",
       "      <td>0.084636</td>\n",
       "    </tr>\n",
       "  </tbody>\n",
       "</table>\n",
       "</div>"
      ],
      "text/plain": [
       "   fixed acidity  volatile acidity  citric acid  residual sugar  chlorides  \\\n",
       "0       0.148946         -0.218060     0.091982       -0.371725   0.450263   \n",
       "1      -0.195652         -1.890462     0.502669       -1.108115  -0.780595   \n",
       "2      -0.884848          0.753012    -1.396757       -0.438669  -0.155077   \n",
       "3       1.010441         -1.189132     0.399998       -0.639503  -0.255967   \n",
       "4      -0.597683         -0.433854     0.451333        2.239114  -0.276145   \n",
       "\n",
       "   free sulfur dioxide  total sulfur dioxide   density        pH  sulphates  \\\n",
       "0             0.256185              2.498011  0.234476 -2.444015   7.385412   \n",
       "1             1.838977              1.797243 -3.520329 -2.701983  -1.234462   \n",
       "2             0.535501             -0.246662  0.134418  0.587115   0.444734   \n",
       "3            -0.674868             -0.567847 -0.018302 -0.444759   0.948493   \n",
       "4            -0.395552              1.154873  0.550448  0.135670   0.948493   \n",
       "\n",
       "    alcohol  \n",
       "0 -0.573058  \n",
       "1  2.151676  \n",
       "2 -0.667015  \n",
       "3  0.742331  \n",
       "4  0.084636  "
      ]
     },
     "execution_count": 66,
     "metadata": {},
     "output_type": "execute_result"
    }
   ],
   "source": [
    "#標準化\n",
    "from sklearn.preprocessing import StandardScaler\n",
    "standard_scaler = StandardScaler()\n",
    "\n",
    "X_train = pd.DataFrame(standard_scaler.fit_transform(X_train), columns=feature_names)\n",
    "X_test = pd.DataFrame(standard_scaler.fit_transform(X_test), columns=feature_names)\n",
    "X_train.head()"
   ]
  },
  {
   "cell_type": "code",
   "execution_count": 67,
   "metadata": {
    "scrolled": true
   },
   "outputs": [
    {
     "name": "stdout",
     "output_type": "stream",
     "text": [
      "Cross-Validation scores: [0.49239137 0.48985979 0.43040695 0.42268956 0.36400115]\n",
      "Average score: 0.43986976362616464\n",
      "Test score: 0.4054752405190062\n"
     ]
    }
   ],
   "source": [
    "linear_reg = Ridge(random_state=0)\n",
    "cross_validation(linear_reg)"
   ]
  },
  {
   "cell_type": "code",
   "execution_count": 68,
   "metadata": {},
   "outputs": [
    {
     "name": "stdout",
     "output_type": "stream",
     "text": [
      "Cross-Validation scores: [0.56696429 0.52678571 0.5        0.52678571 0.4529148 ]\n",
      "Average score: 0.5146901024983984\n",
      "Test score: 0.4583333333333333\n"
     ]
    }
   ],
   "source": [
    "svm_clf = SVC(kernel=\"rbf\", random_state=0)\n",
    "cross_validation(svm_clf)"
   ]
  },
  {
   "cell_type": "code",
   "execution_count": 69,
   "metadata": {},
   "outputs": [
    {
     "name": "stdout",
     "output_type": "stream",
     "text": [
      "Cross-Validation scores: [0.45148575 0.42211498 0.38000374 0.4269028  0.3493321 ]\n",
      "Average score: 0.40596787342893653\n",
      "Test score: 0.39248236816100573\n"
     ]
    }
   ],
   "source": [
    "svm_reg = SVR(kernel=\"rbf\")\n",
    "cross_validation(svm_reg)"
   ]
  },
  {
   "cell_type": "markdown",
   "metadata": {},
   "source": [
    "標準化の前処理で、評価の向上が確認できた。特にSVRを使ったものでは、評価の大きな向上が確認できた。"
   ]
  },
  {
   "cell_type": "code",
   "execution_count": null,
   "metadata": {},
   "outputs": [],
   "source": []
  }
 ],
 "metadata": {
  "colab": {
   "collapsed_sections": [],
   "name": "第6回課題.ipynb",
   "provenance": []
  },
  "kernelspec": {
   "display_name": "Python 3",
   "language": "python",
   "name": "python3"
  },
  "language_info": {
   "codemirror_mode": {
    "name": "ipython",
    "version": 3
   },
   "file_extension": ".py",
   "mimetype": "text/x-python",
   "name": "python",
   "nbconvert_exporter": "python",
   "pygments_lexer": "ipython3",
   "version": "3.7.6"
  }
 },
 "nbformat": 4,
 "nbformat_minor": 1
}
